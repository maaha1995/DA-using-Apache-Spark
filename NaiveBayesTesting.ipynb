{
 "cells": [
  {
   "cell_type": "code",
   "execution_count": null,
   "metadata": {},
   "outputs": [],
   "source": [
    "from __future__ import print_function\n",
    "from pyspark.ml.classification import NaiveBayes\n",
    "from pyspark.ml.evaluation import MulticlassClassificationEvaluator\n",
    "from pyspark.sql import SparkSession\n",
    "\n",
    "if __name__ == \"__main__\":\n",
    "    spark = SparkSession\\\n",
    "        .builder\\\n",
    "        .appName(\"NaiveBayesExample\")\\\n",
    "        .getOrCreate()\n",
    "\n",
    "    # $example on$\n",
    "    # Load training data\n",
    "    trainData = spark.read.format(\"libsvm\") \\\n",
    "        .load(\"/Users/mahalakshmimaddu/Desktop/DICLab3/P4/Method2/CreatingTxtFile/final_matrix_file.txt\")\n",
    "        \n",
    "    testData = spark.read.format(\"libsvm\") \\\n",
    "    .load(\"/Users/mahalakshmimaddu/Desktop/DICLab3/P4/Method2/CreatingTxtFile/test_matrix_file.txt\")\n",
    "\n",
    "\n",
    "    # Split the data into train and test\n",
    "    #splits = data.randomSplit([0.1, 0.9], 1234)\n",
    "    #train = splits[0]\n",
    "    #test = splits[1]\n",
    "\n",
    "    # create the trainer and set its parameters\n",
    "    nb = NaiveBayes(smoothing=1.0, modelType=\"multinomial\")\n",
    "\n",
    "    # train the modelp\n",
    "    model = nb.fit(trainData)\n",
    "\n",
    "    # select example rows to display.\n",
    "    \n",
    "    predictions = model.transform(testData)\n",
    "    predictions.show()\n",
    "\n",
    "    \n",
    "    # compute accuracy on the test set\n",
    "    evaluator = MulticlassClassificationEvaluator(labelCol=\"label\", predictionCol=\"prediction\",\n",
    "                                                  metricName=\"accuracy\")\n",
    "    accuracy = evaluator.evaluate(predictions)\n",
    "    print(\"Test set accuracy = \" + str(accuracy))\n",
    "    # $example off$\n",
    "\n",
    "    spark.stop()"
   ]
  }
 ],
 "metadata": {
  "kernelspec": {
   "display_name": "Python 2",
   "language": "python",
   "name": "python2"
  },
  "language_info": {
   "codemirror_mode": {
    "name": "ipython",
    "version": 2
   },
   "file_extension": ".py",
   "mimetype": "text/x-python",
   "name": "python",
   "nbconvert_exporter": "python",
   "pygments_lexer": "ipython2",
   "version": "2.7.14"
  }
 },
 "nbformat": 4,
 "nbformat_minor": 2
}
