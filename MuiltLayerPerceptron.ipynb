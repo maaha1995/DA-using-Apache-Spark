{
 "cells": [
  {
   "cell_type": "code",
   "execution_count": 5,
   "metadata": {},
   "outputs": [
    {
     "name": "stdout",
     "output_type": "stream",
     "text": [
      "Test set accuracy = 1.0\n"
     ]
    }
   ],
   "source": [
    "from __future__ import print_function\n",
    "\n",
    "# $example on$\n",
    "from pyspark.ml.classification import MultilayerPerceptronClassifier\n",
    "from pyspark.ml.evaluation import MulticlassClassificationEvaluator\n",
    "# $example off$\n",
    "from pyspark.sql import SparkSession\n",
    "\n",
    "if __name__ == \"__main__\":\n",
    "    spark = SparkSession\\\n",
    "        .builder.appName(\"multilayer_perceptron_classification_example\").getOrCreate()\n",
    "\n",
    "    # $example on$\n",
    "    # Load training data\n",
    "    data = spark.read.format(\"libsvm\")\\\n",
    "        .load(\"/Users/mahalakshmimaddu/Desktop/matrix_txt.txt\")\n",
    "\n",
    "    # Split the data into train and test\n",
    "    splits = data.randomSplit([0.6, 0.4], 1234)\n",
    "    train = splits[0]\n",
    "    test = splits[1]\n",
    "\n",
    "    # specify layers for the neural network:\n",
    "    # input layer of size 4 (features), two intermediate of size 5 and 4\n",
    "    # and output of size 3 (classes)\n",
    "    layers = [80, 5, 4, 4]\n",
    "\n",
    "    # create the trainer and set its parameters\n",
    "    trainer = MultilayerPerceptronClassifier(maxIter=100, layers=layers, blockSize=128, seed=1234)\n",
    "\n",
    "    # train the model\n",
    "    model = trainer.fit(train)\n",
    "\n",
    "    # compute accuracy on the test set\n",
    "    result = model.transform(test)\n",
    "    predictionAndLabels = result.select(\"prediction\", \"label\")\n",
    "    evaluator = MulticlassClassificationEvaluator(metricName=\"accuracy\")\n",
    "    print(\"Test set accuracy = \" + str(evaluator.evaluate(predictionAndLabels)))\n",
    "    # $example off$\n",
    "\n",
    "    spark.stop()"
   ]
  },
  {
   "cell_type": "code",
   "execution_count": null,
   "metadata": {},
   "outputs": [],
   "source": []
  }
 ],
 "metadata": {
  "kernelspec": {
   "display_name": "Python 2",
   "language": "python",
   "name": "python2"
  },
  "language_info": {
   "codemirror_mode": {
    "name": "ipython",
    "version": 2
   },
   "file_extension": ".py",
   "mimetype": "text/x-python",
   "name": "python",
   "nbconvert_exporter": "python",
   "pygments_lexer": "ipython2",
   "version": "2.7.14"
  }
 },
 "nbformat": 4,
 "nbformat_minor": 2
}
