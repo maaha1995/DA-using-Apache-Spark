{
 "cells": [
  {
   "cell_type": "code",
   "execution_count": 3,
   "metadata": {},
   "outputs": [],
   "source": [
    "import csv\n",
    "import os\n",
    "\n",
    "with open('/Users/mahalakshmimaddu/Desktop/new_output.csv', 'rb') as csvfile:\n",
    "    contents = csv.reader(csvfile, delimiter=' ', quotechar='|')\n",
    "    i = 0\n",
    "    for row in contents:\n",
    "        output = ' '.join(row)\n",
    "        output_list = output.split(',')\n",
    "        if(output_list[1]==\"Sports\"):\n",
    "            file = open(\"/Users/mahalakshmimaddu/Desktop/DICLab3/Part2/CleanedFiles/Sports/Sports\"+str(i)+\".txt\",\"w\") \n",
    "            file.write(output_list[0]) \n",
    "            file.close()\n",
    "            i = i+1;\n",
    "        if(output_list[1]==\"Movies\"):\n",
    "            file = open(\"/Users/mahalakshmimaddu/Desktop/DICLab3/Part2/CleanedFiles/Movies/Movies\"+str(i)+\".txt\",\"w\") \n",
    "            file.write(output_list[0]) \n",
    "            file.close()\n",
    "            i = i+1;\n",
    "        if(output_list[1]==\"Business\"):\n",
    "            file = open(\"/Users/mahalakshmimaddu/Desktop/DICLab3/Part2/CleanedFiles/Business/Business\"+str(i)+\".txt\",\"w\") \n",
    "            file.write(output_list[0]) \n",
    "            file.close()\n",
    "            i = i+1;\n",
    "        if(output_list[1]==\"Politics\"):\n",
    "            file = open(\"/Users/mahalakshmimaddu/Desktop/DICLab3/Part2/CleanedFiles/Politics/Politics\"+str(i)+\".txt\",\"w\") \n",
    "            file.write(output_list[0]) \n",
    "            file.close()\n",
    "            i = i+1;"
   ]
  },
  {
   "cell_type": "code",
   "execution_count": null,
   "metadata": {},
   "outputs": [],
   "source": []
  },
  {
   "cell_type": "code",
   "execution_count": null,
   "metadata": {},
   "outputs": [],
   "source": []
  },
  {
   "cell_type": "code",
   "execution_count": null,
   "metadata": {},
   "outputs": [],
   "source": [
    "csv"
   ]
  },
  {
   "cell_type": "code",
   "execution_count": null,
   "metadata": {},
   "outputs": [],
   "source": []
  }
 ],
 "metadata": {
  "kernelspec": {
   "display_name": "Python 2",
   "language": "python",
   "name": "python2"
  },
  "language_info": {
   "codemirror_mode": {
    "name": "ipython",
    "version": 2
   },
   "file_extension": ".py",
   "mimetype": "text/x-python",
   "name": "python",
   "nbconvert_exporter": "python",
   "pygments_lexer": "ipython2",
   "version": "2.7.14"
  }
 },
 "nbformat": 4,
 "nbformat_minor": 2
}
