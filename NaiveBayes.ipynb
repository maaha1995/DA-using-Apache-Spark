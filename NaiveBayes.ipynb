{
 "cells": [
  {
   "cell_type": "code",
   "execution_count": null,
   "metadata": {},
   "outputs": [],
   "source": [
    "##Mahalakshmi Padma Sri Harsha Maddu - mmaddu - 50246769\n",
    "## Parikshit Sunil Deshmukh - pdeshmuk - 50247649"
   ]
  },
  {
   "cell_type": "code",
   "execution_count": 2,
   "metadata": {
    "scrolled": true
   },
   "outputs": [
    {
     "name": "stdout",
     "output_type": "stream",
     "text": [
      "Test set accuracy for Naive Bayes Model = 1.0\n"
     ]
    }
   ],
   "source": [
    "from __future__ import print_function\n",
    "from pyspark.ml.classification import NaiveBayes\n",
    "from pyspark.ml.evaluation import MulticlassClassificationEvaluator\n",
    "from pyspark.sql import SparkSession\n",
    "\n",
    "if __name__ == \"__main__\":\n",
    "    spark = SparkSession\\\n",
    "        .builder\\\n",
    "        .appName(\"NaiveBayesExample\")\\\n",
    "        .getOrCreate()\n",
    "    \n",
    "    ##Loading Input Data from the txt file created\n",
    "    \n",
    "    inputData = spark.read.format(\"libsvm\") \\\n",
    "        .load(\"/Users/mahalakshmimaddu/Desktop/final_matrix_file.txt\")\n",
    "        \n",
    "    ##Splitting Input data into train and test set\n",
    "\n",
    "    train_test_spilt = inputData.randomSplit([0.6, 0.4], 1234)\n",
    "    \n",
    "    trainData = train_test_spilt[0]\n",
    "    testData = train_test_spilt[1]\n",
    "    \n",
    "    ##Creating the model\n",
    "\n",
    "    NaiveBayesModel = NaiveBayes(smoothing=1.0, modelType=\"multinomial\")\n",
    "    \n",
    "    ##Fitting the model for train set\n",
    "\n",
    "    nbModel = NaiveBayesModel.fit(trainData)\n",
    "    \n",
    "    ##Predicting outpout for test set\n",
    "    \n",
    "    predictions_output = nbModel.transform(testData)\n",
    "    #predictions_output.show()\n",
    "\n",
    "    ## Evaluating the predicted output for the test set\n",
    "    \n",
    "    evaluator = MulticlassClassificationEvaluator(labelCol=\"label\", predictionCol=\"prediction\",\n",
    "                                                  metricName=\"accuracy\")\n",
    "    accuracy = evaluator.evaluate(predictions_output)\n",
    "    \n",
    "    print(\"Test set accuracy for Naive Bayes Model = \" + str(accuracy))\n",
    "    \n",
    "    spark.stop()"
   ]
  },
  {
   "cell_type": "code",
   "execution_count": null,
   "metadata": {},
   "outputs": [],
   "source": []
  },
  {
   "cell_type": "code",
   "execution_count": null,
   "metadata": {},
   "outputs": [],
   "source": []
  }
 ],
 "metadata": {
  "kernelspec": {
   "display_name": "Python 2",
   "language": "python",
   "name": "python2"
  },
  "language_info": {
   "codemirror_mode": {
    "name": "ipython",
    "version": 2
   },
   "file_extension": ".py",
   "mimetype": "text/x-python",
   "name": "python",
   "nbconvert_exporter": "python",
   "pygments_lexer": "ipython2",
   "version": "2.7.14"
  }
 },
 "nbformat": 4,
 "nbformat_minor": 2
}
